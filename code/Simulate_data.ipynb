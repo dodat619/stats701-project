{
 "cells": [
  {
   "cell_type": "code",
   "execution_count": 9,
   "metadata": {},
   "outputs": [],
   "source": [
    "import numpy as np\n",
    "from scipy.stats import dirichlet, beta, uniform, gamma, bernoulli\n",
    "import pandas as pd\n",
    "import matplotlib.pyplot as plt\n",
    "from sklearn.preprocessing import normalize"
   ]
  },
  {
   "cell_type": "code",
   "execution_count": 1,
   "metadata": {},
   "outputs": [],
   "source": [
    "## helper function to make the plot nice\n",
    "def reorder(q):\n",
    "    N, K = q.shape\n",
    "    A = [None] * K\n",
    "    for k in range(K):\n",
    "        A[k] = np.array([i for i in range(N) if k==np.argmax(q[i,:])])\n",
    "        index_sorted = np.argsort(q[A[k], k])[::-1]\n",
    "        A[k] = A[k][index_sorted]\n",
    "    return np.hstack(A)"
   ]
  },
  {
   "cell_type": "code",
   "execution_count": 10,
   "metadata": {},
   "outputs": [],
   "source": [
    "def simulate_data(N=400, L=800, Q0=[.25,.25,.25,.25], η=0, r=.025):\n",
    "    \"\"\"\n",
    "    simulate haploid data with the scheme in HDPStructure 2019\n",
    "    Q0: global admixture proportion\n",
    "    r: recombination rate, will sample recombination hot spots (linkage)\n",
    "    by choosing randomly (L * r) point from 1 to L-1 \n",
    "    η: noise\n",
    "    \"\"\"\n",
    "    q = np.vstack([dirichlet(Q0).rvs()[0] for i in range(N)])\n",
    "    ## q[i,:] is admixture proportion of individual i\n",
    "    K = len(Q0)\n",
    "    num_hotspot = int(L * r)\n",
    "    HOT = np.random.choice(a = L-1, size = num_hotspot, replace = False)\n",
    "    z = np.zeros((N, L))\n",
    "    ## sample z\n",
    "    for i in range(N):\n",
    "        z[i, 0] = int(np.random.choice(a = K, p = q[i, :]))\n",
    "        for l in range(1, L):\n",
    "            if l in HOT:\n",
    "                s = bernoulli(0.99).rvs()\n",
    "            else:\n",
    "                lamb = uniform(0.01, 0.5).rvs()\n",
    "                s = bernoulli(1-lamb).rvs()\n",
    "            if s==1:\n",
    "                z[i, l] = z[i, l-1]\n",
    "            else:\n",
    "                z[i, l] = int(np.random.choice(a = K, p = q[i, :]))\n",
    "    h = bernoulli(.25).rvs(size=(K, L))  ## latent haplotype\n",
    "    \n",
    "    ## sample X\n",
    "    X = np.zeros((N, L))\n",
    "    for i in range(N):\n",
    "        for l in range(L):\n",
    "            if uniform().rvs() < η:\n",
    "                X[i,l] = bernoulli(0.5).rvs()\n",
    "            else:\n",
    "                X[i,l] = h[int(z[i,l]), l]\n",
    "    \n",
    "    return X, q"
   ]
  },
  {
   "cell_type": "code",
   "execution_count": 3,
   "metadata": {},
   "outputs": [],
   "source": [
    "def bar_plot(q, sorted_ind, colors, switch_label=None):\n",
    "    q_sorted = q[sorted_ind,:]\n",
    "    if switch_label!=None:\n",
    "        q_sorted = q_sorted[:, switch_label]\n",
    "    ax = plt.axes()\n",
    "    xdata = np.arange(N)\n",
    "    bottom = np.zeros(N, dtype=float)\n",
    "    for i, ydata in enumerate(q_sorted.T):\n",
    "        color = colors[i]\n",
    "        ax.bar(xdata, ydata, bottom=bottom, color=color, width=1.0, linewidth=0)\n",
    "        bottom += ydata\n",
    "    return ax"
   ]
  },
  {
   "cell_type": "code",
   "execution_count": 9,
   "metadata": {},
   "outputs": [],
   "source": [
    "def several_bar_plot(qs, sorted_ind, colors, figsize, titles):\n",
    "    J = len(qs)\n",
    "    fig, ax = plt.subplots(J, figsize=figsize)\n",
    "    for j in range(J):\n",
    "        q_sorted = qs[j][sorted_ind,:]\n",
    "        xdata = np.arange(N)\n",
    "        bottom = np.zeros(N, dtype=float)\n",
    "        for i, ydata in enumerate(q_sorted.T):\n",
    "            color = colors[i]\n",
    "            ax[j].bar(xdata, ydata, bottom=bottom, color=color, width=1.0, linewidth=0)\n",
    "            bottom += ydata\n",
    "        ax[j].set_title(titles[j])"
   ]
  },
  {
   "cell_type": "code",
   "execution_count": null,
   "metadata": {},
   "outputs": [],
   "source": []
  }
 ],
 "metadata": {
  "kernelspec": {
   "display_name": "Python 3",
   "language": "python",
   "name": "python3"
  },
  "language_info": {
   "codemirror_mode": {
    "name": "ipython",
    "version": 3
   },
   "file_extension": ".py",
   "mimetype": "text/x-python",
   "name": "python",
   "nbconvert_exporter": "python",
   "pygments_lexer": "ipython3",
   "version": "3.8.3"
  }
 },
 "nbformat": 4,
 "nbformat_minor": 4
}
