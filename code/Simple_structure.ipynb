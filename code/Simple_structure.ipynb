{
 "cells": [
  {
   "cell_type": "code",
   "execution_count": 13,
   "metadata": {},
   "outputs": [],
   "source": [
    "import numpy as np\n",
    "import pandas as pd\n",
    "from sklearn.preprocessing import LabelEncoder\n",
    "from scipy.stats import dirichlet, norm, uniform, beta\n",
    "import timeit\n",
    "from itertools import permutations \n",
    "import itertools\n",
    "\n",
    "%matplotlib inline\n",
    "import matplotlib.pyplot as plt\n",
    "import seaborn as sns\n",
    "sns.set_style(\"darkgrid\")\n",
    "np.random.seed(seed=1)"
   ]
  },
  {
   "cell_type": "markdown",
   "metadata": {},
   "source": [
    "Original STRUCTURE algorithm in paper PSD (2000) for SNP data. The likelihood of the model is \n",
    "\n",
    "$$X_{il} | (Z_{il} = k), (\\theta)  \\sim  \\text{Bernoulli}(\\theta_{kl}) $$\n",
    "\n",
    "$$Z_{il} | Q_i \\sim \\text{Discrete}(Q_i),$$\n",
    "where $i = \\overline{1, N}, k = \\overline{1, K}, l = \\overline{1, L}$.\n",
    "\n",
    "We equip priors on $\\theta, Q$\n",
    "\n",
    "$$\\theta_{kl} \\sim \\text{Beta}(\\beta, \\gamma),$$\n",
    "\n",
    "$$Q_i \\sim \\text{Dir}((\\alpha_k)_{k=1}^{K}).$$\n",
    "\n",
    "The Gibbs sampling formulae for the posterior are\n",
    "\n",
    "$$\\theta_{kl} | X, Z \\sim \\text{Beta}(\\beta + n_{kl1}, \\gamma + n_{kl0}),$$n\n",
    "where $n_{kla} = \\# \\{i: X_{il} = a, Z_{il} = k \\}$, for $a = 0,1$.\n",
    "\n",
    "$$Q_i | Z \\sim \\text{Dir}(\\alpha_1+n_{i1},\\dots, \\alpha_K + n_{1K}),$$\n",
    "where $n_{ik} = \\# \\{l: Z_{il} = k \\}$\n",
    "\n",
    "$$P(Z_{il} = k | X_{il}=1, Q_i) \\propto \\theta_{kl} q_{ik}, \\quad P(Z_{il} = k | X_{il}=0, Q_i) \\propto (1-\\theta_{kl}) q_{ik}.$$\n",
    "\n",
    "To make it easy to code the last step, we define $\\theta_{kl1} = \\theta_{kl}$ and $\\theta_{kl0} = 1 - \\theta_{kl}.$"
   ]
  },
  {
   "cell_type": "code",
   "execution_count": 14,
   "metadata": {},
   "outputs": [],
   "source": [
    "# ## some helper functions\n",
    "# def separate_nucleu(X):\n",
    "#     \"\"\"\n",
    "#     Input: X, shape 2N * L (diploid data) \n",
    "#     Output X1, X2, each has shape N * L, easier to work with\n",
    "#     \"\"\"\n",
    "#     N = int(X.shape[0] / 2)\n",
    "#     odds = [2*n +1 for n in range(N)]\n",
    "#     evens = [2*n for n in range(N)]\n",
    "#     X1 = X[odds, :]\n",
    "#     X2 = X[evens, :]\n",
    "#     return X1, X2"
   ]
  },
  {
   "cell_type": "code",
   "execution_count": 30,
   "metadata": {},
   "outputs": [],
   "source": [
    "def sample_prior():\n",
    "    # sample θ\n",
    "    θ1 = beta(β, γ).rvs(size=(K, L))\n",
    "    θ0 = 1 - θ1\n",
    "    θ = np.zeros((K, L, 2))\n",
    "    θ[:,:, 0] = θ0\n",
    "    θ[:,:, 1] = θ1\n",
    "    \n",
    "    # sample Q\n",
    "    q = np.array([dirichlet([α] * K).rvs()[0] for i in range(N)])\n",
    "        \n",
    "    # sample Z\n",
    "    Z = np.zeros((N, L))\n",
    "    for i in range(N):\n",
    "        Z[i, :] = np.random.choice(a = K, size = L, p = q[i])\n",
    "    return θ, q, Z"
   ]
  },
  {
   "cell_type": "code",
   "execution_count": 31,
   "metadata": {},
   "outputs": [],
   "source": [
    "def Gibbs_next(θ, q, Z, α):\n",
    "    # sample θ\n",
    "    for k in range(K):\n",
    "        for l in range(L):\n",
    "            n_kl0 = np.sum(np.logical_and(X[:, l]==0, Z[:, l]==k)) \n",
    "            n_kl1 = np.sum(np.logical_and(X[:, l]==1, Z[:, l]==k))\n",
    "            θ[k, l, :] = dirichlet([β + n_kl0, γ + n_kl1]).rvs()[0]\n",
    "    # sample Q\n",
    "    for i in range(N):\n",
    "        n_i = np.array([np.sum(Z[i, :]==k) for k in range(K)])\n",
    "        q[i, :] = dirichlet(alpha = np.array([α]*K) + n_i).rvs()[0]\n",
    "    \n",
    "    # sample Z\n",
    "    Z = np.zeros((N, L))\n",
    "    for i in range(N):\n",
    "        for l in range(L):\n",
    "            prob = θ[:, l, int(X[i, l])] * q[i, :]\n",
    "            Z[i, l] = np.random.choice(a = K, p = prob/np.sum(prob))\n",
    "             \n",
    "    # sample α by MH step\n",
    "    α_prime = norm(α, σ_α).rvs()\n",
    "    if α_prime > 0 and α_prime < 10:\n",
    "        r = np.exp(sum(np.log(dirichlet.pdf(q[i], [α_prime] * K)) for i in range(N))\n",
    "                  - sum(np.log(dirichlet.pdf(q[i], [α] * K)) for i in range(N)))\n",
    "        if (uniform().rvs() < r):\n",
    "            α = α_prime\n",
    "    \n",
    "    return θ, q, Z, α"
   ]
  },
  {
   "cell_type": "code",
   "execution_count": null,
   "metadata": {},
   "outputs": [],
   "source": []
  },
  {
   "cell_type": "code",
   "execution_count": 6,
   "metadata": {},
   "outputs": [],
   "source": [
    "# %run Simulate_data.ipynb"
   ]
  },
  {
   "cell_type": "code",
   "execution_count": 24,
   "metadata": {},
   "outputs": [],
   "source": [
    "# N = 100\n",
    "# L = 100\n",
    "# Q0 = [0.33, 0.33, 0.34]"
   ]
  },
  {
   "cell_type": "code",
   "execution_count": 25,
   "metadata": {},
   "outputs": [],
   "source": [
    "# X, q_true = simulate_data(N, L, Q0)"
   ]
  },
  {
   "cell_type": "code",
   "execution_count": 37,
   "metadata": {
    "scrolled": true
   },
   "outputs": [
    {
     "data": {
      "image/png": "[encoded data removed]",
      "text/plain": [
       "<Figure size 432x288 with 1 Axes>"
      ]
     },
     "metadata": {},
     "output_type": "display_data"
    }
   ],
   "source": [
    "# sorted_ind = reorder(q_true)\n",
    "# q_sorted = q_true[sorted_ind,:]\n",
    "# colors = ['green','blue','orange','red']\n",
    "# ax = plt.axes()\n",
    "# xdata = np.arange(N)\n",
    "# bottom = np.zeros(N, dtype=float)\n",
    "# for i, ydata in enumerate(q_sorted.T):\n",
    "#     color = colors[i]\n",
    "#     ax.bar(xdata, ydata, bottom=bottom, color=color, width=1.0, linewidth=0)\n",
    "#     bottom += ydata"
   ]
  },
  {
   "cell_type": "code",
   "execution_count": 27,
   "metadata": {},
   "outputs": [],
   "source": [
    "# β = 1\n",
    "# γ = 1\n",
    "# α = .5\n",
    "# σ_α = .01\n",
    "# K = 3"
   ]
  },
  {
   "cell_type": "code",
   "execution_count": 32,
   "metadata": {},
   "outputs": [],
   "source": [
    "# θ, q, Z = sample_prior()"
   ]
  },
  {
   "cell_type": "code",
   "execution_count": 1,
   "metadata": {},
   "outputs": [],
   "source": [
    "## burn-in\n",
    "# for _ in range(1000):\n",
    "#     θ, q, Z, α = Gibbs_next(θ, q, Z, α)"
   ]
  },
  {
   "cell_type": "code",
   "execution_count": 2,
   "metadata": {},
   "outputs": [],
   "source": [
    "## collect posterior data\n",
    "# qs = []\n",
    "# for _ in range(10):\n",
    "#     θ, q, Z, α = Gibbs_next(θ, q, Z, α)\n",
    "#     if _ % 10 == 0:\n",
    "#         qs.append(q)\n"
   ]
  },
  {
   "cell_type": "code",
   "execution_count": 35,
   "metadata": {},
   "outputs": [
    {
     "data": {
      "image/png": "[encoded data removed]",
      "text/plain": [
       "<Figure size 432x288 with 1 Axes>"
      ]
     },
     "metadata": {},
     "output_type": "display_data"
    }
   ],
   "source": [
    "# qs = np.array(qs)\n",
    "# q_pred = np.mean(qs, axis=0)\n",
    "# q_pred = q_pred[sorted_ind,:]\n",
    "# colors = ['green','blue','orange','red']\n",
    "# ax = plt.axes()\n",
    "# xdata = np.arange(N)\n",
    "# bottom = np.zeros(N, dtype=float)\n",
    "# for i, ydata in enumerate(q_pred.T):\n",
    "#     color = colors[i]\n",
    "#     ax.bar(xdata, ydata, bottom=bottom, color=color, width=1.0, linewidth=0)\n",
    "#     bottom += ydata"
   ]
  },
  {
   "cell_type": "code",
   "execution_count": null,
   "metadata": {},
   "outputs": [],
   "source": []
  },
  {
   "cell_type": "code",
   "execution_count": null,
   "metadata": {},
   "outputs": [],
   "source": []
  },
  {
   "cell_type": "code",
   "execution_count": null,
   "metadata": {},
   "outputs": [],
   "source": []
  },
  {
   "cell_type": "code",
   "execution_count": null,
   "metadata": {},
   "outputs": [],
   "source": []
  },
  {
   "cell_type": "code",
   "execution_count": null,
   "metadata": {},
   "outputs": [],
   "source": []
  }
 ],
 "metadata": {
  "kernelspec": {
   "display_name": "Python 3",
   "language": "python",
   "name": "python3"
  },
  "language_info": {
   "codemirror_mode": {
    "name": "ipython",
    "version": 3
   },
   "file_extension": ".py",
   "mimetype": "text/x-python",
   "name": "python",
   "nbconvert_exporter": "python",
   "pygments_lexer": "ipython3",
   "version": "3.8.3"
  }
 },
 "nbformat": 4,
 "nbformat_minor": 4
}
