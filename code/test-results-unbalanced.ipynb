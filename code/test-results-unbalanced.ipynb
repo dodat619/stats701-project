{
 "cells": [
  {
   "cell_type": "code",
   "execution_count": 1,
   "metadata": {},
   "outputs": [],
   "source": [
    "import numpy as np\n",
    "import pandas as pd\n",
    "from sklearn.preprocessing import normalize\n",
    "from scipy.stats import dirichlet, norm, uniform, bernoulli, beta\n",
    "import timeit\n",
    "from itertools import permutations \n",
    "import itertools\n",
    "from scipy.special import digamma\n",
    "\n",
    "%matplotlib inline\n",
    "import matplotlib.pyplot as plt\n",
    "import seaborn as sns\n",
    "sns.set_style(\"darkgrid\")\n",
    "import import_ipynb\n",
    "np.random.seed(seed=1)\n",
    "\n",
    "from sklearn.cluster import KMeans\n",
    "from scipy.spatial.distance import euclidean\n",
    "from sklearn.preprocessing import normalize"
   ]
  },
  {
   "cell_type": "code",
   "execution_count": 2,
   "metadata": {},
   "outputs": [],
   "source": [
    "%run Simulate_data.ipynb\n",
    "%run Simple_structure.ipynb\n",
    "%run VI.ipynb\n",
    "%run VLAD.ipynb"
   ]
  },
  {
   "cell_type": "code",
   "execution_count": 3,
   "metadata": {},
   "outputs": [],
   "source": [
    "N = 200\n",
    "L = 500\n",
    "Q0 = [.6, .25, .15]"
   ]
  },
  {
   "cell_type": "code",
   "execution_count": 4,
   "metadata": {},
   "outputs": [],
   "source": [
    "X, q_true = simulate_data(N, L, Q0)"
   ]
  },
  {
   "cell_type": "code",
   "execution_count": 5,
   "metadata": {},
   "outputs": [
    {
     "data": {
      "image/png": "[encoded data removed]",
      "text/plain": [
       "<Figure size 432x288 with 1 Axes>"
      ]
     },
     "metadata": {},
     "output_type": "display_data"
    }
   ],
   "source": [
    "sorted_ind = reorder(q_true)\n",
    "colors = ['green','blue','orange','red']\n",
    "ax1 = bar_plot(q_true, sorted_ind, colors)"
   ]
  },
  {
   "cell_type": "markdown",
   "metadata": {},
   "source": [
    "## Simple STRUCTURE model (paper 2000)"
   ]
  },
  {
   "cell_type": "code",
   "execution_count": 6,
   "metadata": {},
   "outputs": [],
   "source": [
    "β = 1\n",
    "γ = 1\n",
    "α = .5\n",
    "σ_α = .1\n",
    "K = 3"
   ]
  },
  {
   "cell_type": "code",
   "execution_count": 7,
   "metadata": {},
   "outputs": [],
   "source": [
    "θ, q, Z = sample_prior()"
   ]
  },
  {
   "cell_type": "code",
   "execution_count": 8,
   "metadata": {},
   "outputs": [],
   "source": [
    "## burn-in\n",
    "start_structure = timeit.default_timer()\n",
    "for _ in range(1000):\n",
    "    θ, q, Z, α = Gibbs_next(θ, q, Z, α)"
   ]
  },
  {
   "cell_type": "code",
   "execution_count": 9,
   "metadata": {},
   "outputs": [
    {
     "name": "stdout",
     "output_type": "stream",
     "text": [
      "-5101.272206\n"
     ]
    }
   ],
   "source": [
    "## collect posterior data\n",
    "qs = []\n",
    "for _ in range(1000):\n",
    "    θ, q, Z, α = Gibbs_next(θ, q, Z, α)\n",
    "    if _ % 10 == 0:\n",
    "        qs.append(q)\n",
    "end_structure = timeit.default_timer()\n",
    "print(end_structure - start_structure)"
   ]
  },
  {
   "cell_type": "code",
   "execution_count": 10,
   "metadata": {},
   "outputs": [],
   "source": [
    "qs = np.array(qs)\n",
    "q_structure = np.mean(qs, axis=0)"
   ]
  },
  {
   "cell_type": "code",
   "execution_count": 37,
   "metadata": {},
   "outputs": [
    {
     "data": {
      "text/plain": [
       "<matplotlib.axes._subplots.AxesSubplot at 0x166b86f16d0>"
      ]
     },
     "execution_count": 37,
     "metadata": {},
     "output_type": "execute_result"
    },
    {
     "data": {
      "image/png": "[encoded data removed]",
      "text/plain": [
       "<Figure size 432x288 with 1 Axes>"
      ]
     },
     "metadata": {},
     "output_type": "display_data"
    }
   ],
   "source": [
    "bar_plot(q_structure, sorted_ind, colors, switch_label=[2,1,0])"
   ]
  },
  {
   "cell_type": "code",
   "execution_count": 40,
   "metadata": {},
   "outputs": [],
   "source": [
    "q_structure_reind = q_structure[:,[2,1,0]]"
   ]
  },
  {
   "cell_type": "markdown",
   "metadata": {},
   "source": [
    "## Variational Inference"
   ]
  },
  {
   "cell_type": "code",
   "execution_count": 66,
   "metadata": {},
   "outputs": [],
   "source": [
    "Qold = uniform(0.5, 1.5).rvs((N, K))\n",
    "Pu = uniform(0.5, 1.5).rvs((K, L))\n",
    "Pv = uniform(0.5, 1.5).rvs((K, L))\n",
    "Z = uniform(0.5, 1.5).rvs(size=(N, L, K))\n",
    "β = 1\n",
    "γ = 1\n",
    "α = np.array([0.3] * K)"
   ]
  },
  {
   "cell_type": "code",
   "execution_count": 67,
   "metadata": {},
   "outputs": [
    {
     "name": "stdout",
     "output_type": "stream",
     "text": [
      "130.55938320000132\n"
     ]
    }
   ],
   "source": [
    "start_VI = timeit.default_timer()\n",
    "for _ in range(50):\n",
    "    Z, Qnew, Pu, Pv = update(Z, Qold, Pu, Pv)\n",
    "#     if np.linalg.norm(Qnew - Qold) < 1e-8:\n",
    "#         print(_)\n",
    "#         break\n",
    "#     else:\n",
    "    Qold = Qnew\n",
    "stop_VI = timeit.default_timer()\n",
    "print(stop_VI - start_VI)"
   ]
  },
  {
   "cell_type": "code",
   "execution_count": 68,
   "metadata": {},
   "outputs": [],
   "source": [
    "q_VI = normalize(Qnew, norm='l1', axis=1)"
   ]
  },
  {
   "cell_type": "code",
   "execution_count": 71,
   "metadata": {},
   "outputs": [
    {
     "data": {
      "text/plain": [
       "<matplotlib.axes._subplots.AxesSubplot at 0x166bc8a0df0>"
      ]
     },
     "execution_count": 71,
     "metadata": {},
     "output_type": "execute_result"
    },
    {
     "data": {
      "image/png": "[encoded data removed]",
      "text/plain": [
       "<Figure size 432x288 with 1 Axes>"
      ]
     },
     "metadata": {},
     "output_type": "display_data"
    }
   ],
   "source": [
    "bar_plot(q_VI, sorted_ind, colors, switch_label=[2,0, 1])"
   ]
  },
  {
   "cell_type": "code",
   "execution_count": 72,
   "metadata": {},
   "outputs": [],
   "source": [
    "q_VI_reind = q_VI[:, [2,0, 1]]"
   ]
  },
  {
   "cell_type": "markdown",
   "metadata": {},
   "source": [
    "## VLAD"
   ]
  },
  {
   "cell_type": "code",
   "execution_count": 16,
   "metadata": {},
   "outputs": [
    {
     "name": "stdout",
     "output_type": "stream",
     "text": [
      "9.032703900000342\n"
     ]
    }
   ],
   "source": [
    "start_VLAD = timeit.default_timer()\n",
    "θ = VLAD(X, K)\n",
    "print(timeit.default_timer() - start_VLAD)"
   ]
  },
  {
   "cell_type": "code",
   "execution_count": 17,
   "metadata": {},
   "outputs": [],
   "source": [
    "q_VLAD = admix_prop(X, θ)"
   ]
  },
  {
   "cell_type": "code",
   "execution_count": 48,
   "metadata": {},
   "outputs": [
    {
     "data": {
      "image/png": "[encoded data removed]",
      "text/plain": [
       "<Figure size 432x288 with 1 Axes>"
      ]
     },
     "metadata": {},
     "output_type": "display_data"
    }
   ],
   "source": [
    "ax2 = bar_plot(q_VLAD, sorted_ind, colors)"
   ]
  },
  {
   "cell_type": "code",
   "execution_count": 49,
   "metadata": {},
   "outputs": [],
   "source": [
    "q_VLAD_reind = q_VLAD"
   ]
  },
  {
   "cell_type": "code",
   "execution_count": 50,
   "metadata": {},
   "outputs": [
    {
     "data": {
      "image/png": "[encoded data removed]",
      "text/plain": [
       "<Figure size 648x1008 with 4 Axes>"
      ]
     },
     "metadata": {},
     "output_type": "display_data"
    }
   ],
   "source": [
    "qs = [q_true, q_structure_reind, q_VI_reind, q_VLAD_reind]\n",
    "titles = ['Ground truth', 'STRUCTURE', 'VI', 'VLAD']\n",
    "several_bar_plot(qs, sorted_ind, colors, (9,14), titles)"
   ]
  },
  {
   "cell_type": "code",
   "execution_count": 73,
   "metadata": {},
   "outputs": [],
   "source": [
    "err_STRUCTURE = np.sqrt(np.linalg.norm(q_true - q_structure_reind) / (N*K))\n",
    "time_STRUCTURE = '1 hour 20 minutes'\n",
    "err_VI = np.sqrt(np.linalg.norm(q_true - q_VI_reind)/ (N*K))\n",
    "time_VI = '2 minute 10 seconds'\n",
    "err_VLAD = np.sqrt(np.linalg.norm(q_true - q_VLAD_reind)/ (N*K))\n",
    "time_VLAD = '9 seconds'"
   ]
  },
  {
   "cell_type": "code",
   "execution_count": 74,
   "metadata": {},
   "outputs": [],
   "source": [
    "df = pd.DataFrame({'RMSE': [err_STRUCTURE, err_VI, err_VLAD],\n",
    "                  'Running time': [time_STRUCTURE, time_VI, time_VLAD]})"
   ]
  },
  {
   "cell_type": "code",
   "execution_count": 75,
   "metadata": {},
   "outputs": [
    {
     "data": {
      "text/html": [
       "<div>\n",
       "<style scoped>\n",
       "    .dataframe tbody tr th:only-of-type {\n",
       "        vertical-align: middle;\n",
       "    }\n",
       "\n",
       "    .dataframe tbody tr th {\n",
       "        vertical-align: top;\n",
       "    }\n",
       "\n",
       "    .dataframe thead th {\n",
       "        text-align: right;\n",
       "    }\n",
       "</style>\n",
       "<table border=\"1\" class=\"dataframe\">\n",
       "  <thead>\n",
       "    <tr style=\"text-align: right;\">\n",
       "      <th></th>\n",
       "      <th>RMSE</th>\n",
       "      <th>Running time</th>\n",
       "    </tr>\n",
       "  </thead>\n",
       "  <tbody>\n",
       "    <tr>\n",
       "      <th>0</th>\n",
       "      <td>0.049881</td>\n",
       "      <td>1 hour 20 minutes</td>\n",
       "    </tr>\n",
       "    <tr>\n",
       "      <th>1</th>\n",
       "      <td>0.060580</td>\n",
       "      <td>1 minute 20 seconds</td>\n",
       "    </tr>\n",
       "    <tr>\n",
       "      <th>2</th>\n",
       "      <td>0.050747</td>\n",
       "      <td>9 seconds</td>\n",
       "    </tr>\n",
       "  </tbody>\n",
       "</table>\n",
       "</div>"
      ],
      "text/plain": [
       "       RMSE         Running time\n",
       "0  0.049881    1 hour 20 minutes\n",
       "1  0.060580  1 minute 20 seconds\n",
       "2  0.050747            9 seconds"
      ]
     },
     "execution_count": 75,
     "metadata": {},
     "output_type": "execute_result"
    }
   ],
   "source": [
    "df"
   ]
  },
  {
   "cell_type": "code",
   "execution_count": null,
   "metadata": {},
   "outputs": [],
   "source": []
  }
 ],
 "metadata": {
  "kernelspec": {
   "display_name": "Python 3",
   "language": "python",
   "name": "python3"
  },
  "language_info": {
   "codemirror_mode": {
    "name": "ipython",
    "version": 3
   },
   "file_extension": ".py",
   "mimetype": "text/x-python",
   "name": "python",
   "nbconvert_exporter": "python",
   "pygments_lexer": "ipython3",
   "version": "3.8.3"
  }
 },
 "nbformat": 4,
 "nbformat_minor": 4
}
