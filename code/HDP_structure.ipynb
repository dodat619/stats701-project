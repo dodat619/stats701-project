{
 "cells": [
  {
   "cell_type": "code",
   "execution_count": 3,
   "metadata": {},
   "outputs": [],
   "source": [
    "import numpy as np\n",
    "import pandas as pd\n",
    "from sklearn.preprocessing import LabelEncoder\n",
    "from scipy.stats import dirichlet, norm, uniform, bernoulli, beta\n",
    "import timeit\n",
    "from itertools import permutations \n",
    "import itertools\n",
    "\n",
    "%matplotlib inline\n",
    "import matplotlib.pyplot as plt\n",
    "import seaborn as sns\n",
    "sns.set_style(\"darkgrid\")\n",
    "np.random.seed(seed=1)"
   ]
  },
  {
   "cell_type": "markdown",
   "metadata": {},
   "source": [
    "Consider SNP data of $N$ individual at $L$ loci, denote by $X = (x_{ij})_{i=\\overline{1, N}, l = \\overline{1, L}}$. We now implement the population structure algorithm presented in [1] using HDP.\n",
    "\n",
    "For $=\\overline{1, N}, l = \\overline{1, L}$, denote $z_{il}$ the population ancestry at locus $l$ of individual $l$, and $Q_i = (q_{i1}, \\dots, q_{ik})$ the proportions of individual $i$ belongs to each of $k$ population ancestry. We also consider linkage disquilibrium by including the random variables $s_{il} \\in \\{0,1 \\}$, where $s_{il} = 1$ means locus $l-1$ and $l$ are in the same chunk ($=0$ if not). The probability transition model is\n",
    "\n",
    "$$z_{i1} \\sim \\text{discrete}(Q_i), $$\n",
    "\n",
    "$$s_{i, l+1} \\overset{iid}{\\sim} \\text{Bernoulli}(e^{-rd_l}), \\quad l= 1, \\dots, L-1, $$\n",
    "\n",
    "$$z_{i, l+1}|s_{i, l+1} z_{il} \\begin{cases} = z_{il} & \\text{if } s_{i, l+1} = 1,\\\\\n",
    "\\sim \\text{Bernoulli}(e^{-rd_l}) & \\text{if } s_{i, l+1} = 0,\n",
    "\\end{cases}$$\n",
    "where $d_l$ is the genetic distance between locus $l-1$ and $l$."
   ]
  },
  {
   "cell_type": "markdown",
   "metadata": {},
   "source": [
    "We assume that there is Hardy-Weinberg equilibrium within each population. Denote $\\theta_k = (\\theta_{kla})_{l=\\overline{1, L}, a = 0, 1}$ be the probability of allele at locus $l$ of population $k$ to be 0/1 (because we only consider SNP case, in microsattlite, $a$ can be $\\geq 2$). We have\n",
    "\n",
    "$$P(x_{il} = a | z_{il}=k) = \\theta_{kla}, \\quad \\forall \\, i = \\overline{1, N}, l = \\overline{1, L}, a = 0,1.$$\n"
   ]
  },
  {
   "cell_type": "markdown",
   "metadata": {},
   "source": [
    "Finally, we equip prior for $Q_i$ using Hierachical Dirichlet Process. \n",
    "\n",
    "$$Q_i | Q_0 \\overset{iid}{\\sim} \\text{DP}(\\alpha Q_0), $$\n",
    "\n",
    "$$Q_0 \\sim \\text{DP}(\\alpha_0 H). $$"
   ]
  },
  {
   "cell_type": "code",
   "execution_count": 15,
   "metadata": {},
   "outputs": [
    {
     "data": {
      "text/plain": [
       "array([0., 0., 0., 0., 0.])"
      ]
     },
     "execution_count": 15,
     "metadata": {},
     "output_type": "execute_result"
    }
   ],
   "source": [
    "np.zeros(5)"
   ]
  },
  {
   "cell_type": "code",
   "execution_count": 25,
   "metadata": {},
   "outputs": [],
   "source": [
    "## functions to help sample latent variables\n",
    "def count_n_m(z, s):\n",
    "    \"\"\"\n",
    "    Count n[i, k], i = 0,..., N-1, k = 0,..., K-1 based on z, s\n",
    "    \"\"\"\n",
    "    n = np.zeros((N, K))\n",
    "    m = np.zeros((N, K))\n",
    "    for i in range(N):\n",
    "        for k in range(K):\n",
    "            n[i, k] = np.sum((z[i, l] == k) & (s[i, l] == 0) for l in range(L)) \n",
    "            if n[i,k] > 0:\n",
    "                m[i,k] = np.sum([bernoulli(α * q[i,k] / (α * q[i,k] + j)).rvs() for j in range(n[i,k])])\n",
    "            \n",
    "    return n, m\n",
    "\n",
    "\n",
    "def Q0(α0, m, K, KMAX):\n",
    "    n0 = [np.sum(m[:, k]) for k in range(K)]\n",
    "    q0 = dirichlet(n0.append(α0)).rvs()[0]             ## q_{01},..., q_{0K}, w_0\n",
    "    q0tmp = np.zeros(KMAX)\n",
    "    # sample from Q0'\n",
    "    for j in range(KMAX):\n",
    "        l0 = 1    # stick length\n",
    "        b0 = beta(1, α0).rvs()\n",
    "        l0new = l0 * b0\n",
    "        q0tmp[j] = l0new\n",
    "        l0 = l0 * (1-b0)\n",
    "    q0tmp = q0tmp * q0[K]  ## mass of the stick breaking G'\n",
    "    q0star = l0 * q0[K]    ## left-over mass\n",
    "\n",
    "    return np.append(q0[:-1], q0tmp, q0star)\n",
    "\n",
    "def LD(r, d):\n",
    "    \"\"\"\n",
    "    Linkage disequilibrium paramter  \n",
    "    Input: r: a postive number \n",
    "    d = d[l] (np array) for l in range(L-1) distance between locus l and l+1 (if dont know, just let all = 1)\n",
    "    \"\"\"\n",
    "    ld = np.exp(- r * d)\n",
    "    return ld    "
   ]
  },
  {
   "cell_type": "code",
   "execution_count": 32,
   "metadata": {},
   "outputs": [],
   "source": [
    "## posterior sample z and s of instance i\n",
    "def FFBS(popi, qi, ld, θ, X):\n",
    "    \"\"\"\n",
    "    popi (length Ki): set of populations having prob > Ci\n",
    "    qi (length Ki): their probability\n",
    "    return proposed zi and si.\n",
    "\n",
    "    Foward filtering:\n",
    "    M[b,k,l] = P(x, s[i, l] = b, z[i, l] = k| q, θ) for b = 0, 1; k = 0,..., Ki-1; i = 0,..., N-1; l = 0,..., L-1\n",
    "    Md[k, l] = p(x, z[i, l] = k | q, θ) for k = 0,..., Ki-1; i = 0,..., N-1; l = 0,..., L-1\n",
    "    Mdd[l] = p(x | q, θ) for l = 0,..., L-1\n",
    "    \n",
    "    then backward sampling z_i and s_i:\n",
    "    Q(z[i, L] = k) α Md[k, i, L]\n",
    "    Q(s[i, L] = b | z[i, L] = k) α M[b, k, i, L]\n",
    "    Q(z[i, l] = k | s[i, l+1] = 1, z[i, l+1] = k') α 1(k = k')\n",
    "    Q(z[i, l] = k | s[i, l+1] = 0, z[i, l+1] = k') α Md[k, i, l]\n",
    "    \"\"\"\n",
    "    Ki = len(popi)\n",
    "    M = np.zeros((2, Ki, L))\n",
    "    Md = np.zeros((Ki, L))\n",
    "    Mdd = np.zeros(L)\n",
    "    \n",
    "    ## Forward filtering\n",
    "    Md[:, 0] = θ[popi, 0, X[i, 0]] * qi\n",
    "    Mdd[0] = np.sum(Md[:, 0])\n",
    "    \n",
    "    for l in range(1, L):\n",
    "        M[1, :, l] = θ[popi, l, X[i, l]] * Md[:, l-1] * ld[l-1]\n",
    "        M[0, :, l] = θ[popi, l, X[i, l]] * Mdd[:, l-1] * qi * (1-ld[l-1])\n",
    "        Md[:, l] = M[1, :, l] + M[0, :, l]\n",
    "        Mdd[l] = np.sum(Md[:, l])\n",
    "        \n",
    "    ## Backward sampling\n",
    "    zi = np.zeros(L)\n",
    "    si = np.zeros(L)\n",
    "    \n",
    "    zi[L-1] = np.random.choice(popi, p = Md[:, L-1] / np.sum(Md[:, L-1]))\n",
    "    si[L-1] = np.random.choice(2, p = M[:, zi[L-1], L-1] / np.sum(M[:, zi[L-1], L-1]))\n",
    "    \n",
    "    for l in reversed(range(L-1)):\n",
    "        if si[l+1] == 1:\n",
    "            zi[l] = zi[l+1]\n",
    "        else:\n",
    "            zi[l] = np.random.choice(popi, p = Md[:, l] / np.sum(Md[:, l]))\n",
    "            \n",
    "        si[l] = np.random.choice(2, p = M[:, zi[l], l] / np.sum(M[:, zi[l], l]))\n",
    "    \n",
    "    return zi, si \n",
    "        \n",
    "def ZS(θ, x, q0, ni, zi_old, si_old, α):\n",
    "    \"\"\"\n",
    "    Sample z_i and s_i This step can be paralllel because Gi are independent given G0\n",
    "    q0 = Q0(...)\n",
    "    \"\"\"\n",
    "    \n",
    "    K = len(q0) - 1\n",
    "    param = np.append(α * q0[:K] + ni, α * q0[K])\n",
    "    qi = dirichlet(param).rvs()[0]\n",
    "    q_min_curr = np.min(qi[np.unique(zi_old)])  ## CAREFUL: what if zi_old has a cell > K\n",
    "    Ci = uniform(0, q_min_curr).rvs()\n",
    "    popi = [ind for ind in range(K) if qi[ind] > Ci]\n",
    "    qi_trunc = qi[popi]\n",
    "    \n",
    "    zi, si = FFBS(popi, qi_trunc, ld, θ, X)\n",
    "    \n",
    "    q_min_prop = np.min(qi[np.unique(zi)])\n",
    "    if uniform().rvs() > (q_min_curr / q_min_prop):\n",
    "        zi = zi_old\n",
    "        si = si_old    \n",
    "    \n",
    "    return zi, si\n",
    "\n",
    "def theta(X, Z, a0, b0):\n",
    "    θ = np.zeros((K, L, 2))\n",
    "    for k in range(K):\n",
    "        for l in range(L):\n",
    "            apost = a0 + np.sum(np.logical_and([X[:, l] == 0], [Z[:, l] == k]))\n",
    "            bpost = b0 + np.sum(np.logical_and([X[:, l] == 1], [Z[:, l] == k]))\n",
    "            θ[k, l, 0], θ[k, l, 1] = dirichlet([apost, bpost]).rvs()[0]\n",
    "    return θ"
   ]
  },
  {
   "cell_type": "code",
   "execution_count": null,
   "metadata": {},
   "outputs": [],
   "source": []
  }
 ],
 "metadata": {
  "kernelspec": {
   "display_name": "Python 3",
   "language": "python",
   "name": "python3"
  },
  "language_info": {
   "codemirror_mode": {
    "name": "ipython",
    "version": 3
   },
   "file_extension": ".py",
   "mimetype": "text/x-python",
   "name": "python",
   "nbconvert_exporter": "python",
   "pygments_lexer": "ipython3",
   "version": "3.8.3"
  }
 },
 "nbformat": 4,
 "nbformat_minor": 4
}
