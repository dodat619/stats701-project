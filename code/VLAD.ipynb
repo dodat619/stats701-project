{
 "cells": [
  {
   "cell_type": "code",
   "execution_count": 1,
   "metadata": {},
   "outputs": [],
   "source": [
    "import numpy as np\n",
    "from sklearn.cluster import KMeans\n",
    "from scipy.spatial.distance import euclidean\n",
    "from sklearn.preprocessing import normalize"
   ]
  },
  {
   "cell_type": "code",
   "execution_count": 26,
   "metadata": {},
   "outputs": [],
   "source": [
    "def simul_gamm(K, alpha, M=100000):\n",
    "    \"\"\"\n",
    "    Calculate γ by Monte Carlo sampling\n",
    "    \"\"\"\n",
    "    X = np.random.dirichlet(np.ones(K)*alpha, M)\n",
    "    kmeans = KMeans(n_clusters=K, n_init=1, max_iter=5000).fit(X)\n",
    "    centers = kmeans.cluster_centers_\n",
    "    \n",
    "    cent = 1./K * np.ones(K)\n",
    "    γ = np.sqrt(K*(K-1.))/np.linalg.norm(centers - cent, axis=1).sum()\n",
    "    return γ\n",
    "\n",
    "def get_theta(cent, centers, γ):\n",
    "    thetas = np.array([cent + γ*(centers[x,:] - cent) for x in range(centers.shape[0])])\n",
    "    thetas[thetas<0] = 0\n",
    "#     thetas = normalize(thetas, 'l1')\n",
    "    \n",
    "    return thetas\n",
    "\n",
    "def cov_dir(K, α):\n",
    "    S = 1/(K * (K*α + 1)) * (np.eye(K) - 1/K * np.ones((K, K)))\n",
    "    return S\n",
    "\n",
    "def search_alpha(Σ, cent, D_centers):\n",
    "    α_list = np.arange(0.05,1.01,0.01)\n",
    "    α_dict = {}\n",
    "    for α in α_list:\n",
    "        S = cov_dir(K, α)\n",
    "        γ = simul_gamm(K, α)\n",
    "        θ = get_theta(cent, D_centers, γ)\n",
    "        θbar = θ.mean(axis=0)\n",
    "        cov_mu = (θ.T @ S) @ θ\n",
    "        estimate_Σ = np.diag(θbar) - np.diag(θbar * θbar) + cov_mu - np.diag(np.diag(cov_mu)) \n",
    "#         estimate_Σ = np.diag(θbar) - θbar.reshape(L, 1) @ θbar.reshape(1, L)\n",
    "        α_dict.update({α: np.linalg.norm(estimate_Σ - Σ)})\n",
    "    αhat = min(α_dict, key=α_dict.get)\n",
    "    return αhat     \n",
    "\n",
    "def admix_prop(X, θ):\n",
    "    N, L  = X.shape\n",
    "    K = θ.shape[0]\n",
    "    θK = θ[K-1, :].reshape(1, L)\n",
    "    θnoK = (θ - θK)[:(K-1), :]\n",
    "    Q = np.zeros((N, K))\n",
    "    Q[:, :(K-1)] = (X - θK) @ np.linalg.pinv(θnoK)\n",
    "    Q[:, (K-1)] = np.ones(N) - np.sum(Q[:, :(K-1)], axis=1)\n",
    "    Q[Q < 0] = 0\n",
    "    Q = normalize(Q, norm='l1', axis=1)\n",
    "    return Q"
   ]
  },
  {
   "cell_type": "code",
   "execution_count": 27,
   "metadata": {},
   "outputs": [],
   "source": [
    "def VLAD(X, K, α=None):\n",
    "    x_mean = X.mean(axis=0)\n",
    "    x_cov = np.dot((X-x_mean).T, X-x_mean)/X.shape[0]\n",
    "    cent = X.mean(axis=0)\n",
    "    u, s, v = np.linalg.svd(X-cent, full_matrices=False)\n",
    "    s = s[:K]\n",
    "    X_svd = u[:,:K]\n",
    "    v_back = s.reshape(-1,1)*v[:K]\n",
    "    \n",
    "    init_centers = KMeans(n_clusters=K, max_iter=10).fit(X-cent).cluster_centers_\n",
    "    v_to_svd = v[:K].T * 1./s\n",
    "    init_centers = np.dot(init_centers, v_to_svd)\n",
    "    u_centers = KMeans(n_clusters=K, init=init_centers, n_init=1).fit(X_svd).cluster_centers_\n",
    "    \n",
    "    D_centers = np.dot(u_centers, v_back) + cent\n",
    "    if α==None:\n",
    "        α = search_alpha(x_cov, cent, D_centers)\n",
    "    γ = simul_gamm(K, α)\n",
    "    θ = get_theta(cent, D_centers, γ)\n",
    "    return θ"
   ]
  },
  {
   "cell_type": "code",
   "execution_count": null,
   "metadata": {},
   "outputs": [],
   "source": []
  },
  {
   "cell_type": "code",
   "execution_count": 77,
   "metadata": {},
   "outputs": [],
   "source": [
    "# %run Simulate_data.ipynb"
   ]
  },
  {
   "cell_type": "code",
   "execution_count": 8,
   "metadata": {},
   "outputs": [],
   "source": [
    "# N = 200\n",
    "# L = 200\n",
    "# Q0 = [0.5, 0.5, 0.5]\n",
    "# K = 3"
   ]
  },
  {
   "cell_type": "code",
   "execution_count": 9,
   "metadata": {},
   "outputs": [],
   "source": [
    "# X, q_true = simulate_data(N, L, Q0)"
   ]
  },
  {
   "cell_type": "code",
   "execution_count": 10,
   "metadata": {},
   "outputs": [
    {
     "data": {
      "image/png": "[encoded data removed]",
      "text/plain": [
       "<Figure size 432x288 with 1 Axes>"
      ]
     },
     "metadata": {
      "needs_background": "light"
     },
     "output_type": "display_data"
    }
   ],
   "source": [
    "# colors = ['green','blue','orange','red', 'yellow']\n",
    "# sorted_ind = reorder(q_true)\n",
    "# ax1 = bar_plot(q_true, sorted_ind, colors)"
   ]
  },
  {
   "cell_type": "code",
   "execution_count": 36,
   "metadata": {},
   "outputs": [
    {
     "name": "stdout",
     "output_type": "stream",
     "text": [
      "0.5\n"
     ]
    }
   ],
   "source": [
    "# K = 3\n",
    "# θ = VLAD(X, K,α=0.5)"
   ]
  },
  {
   "cell_type": "code",
   "execution_count": 37,
   "metadata": {},
   "outputs": [],
   "source": [
    "# q_pred = admix_prop(X, θ)"
   ]
  },
  {
   "cell_type": "code",
   "execution_count": 40,
   "metadata": {},
   "outputs": [
    {
     "data": {
      "image/png": "[encoded data removed]",
      "text/plain": [
       "<Figure size 432x288 with 1 Axes>"
      ]
     },
     "metadata": {
      "needs_background": "light"
     },
     "output_type": "display_data"
    }
   ],
   "source": [
    "# ax2 = bar_plot(q_pred, sorted_ind, colors, switch_label=[1, 0, 2])"
   ]
  },
  {
   "cell_type": "code",
   "execution_count": 83,
   "metadata": {},
   "outputs": [
    {
     "data": {
      "image/png": "[encoded data removed]",
      "text/plain": [
       "<Figure size 576x576 with 2 Axes>"
      ]
     },
     "metadata": {
      "needs_background": "light"
     },
     "output_type": "display_data"
    }
   ],
   "source": [
    "# q_pred_sorted = q_pred[:,[1,0,2]]\n",
    "# qs=[q_true, q_pred_sorted]\n",
    "# several_bar_plot(qs, sorted_ind, colors, figsize=(8,8), titles=['Ground truth',' VLAD'])"
   ]
  }
 ],
 "metadata": {
  "kernelspec": {
   "display_name": "Python 3",
   "language": "python",
   "name": "python3"
  },
  "language_info": {
   "codemirror_mode": {
    "name": "ipython",
    "version": 3
   },
   "file_extension": ".py",
   "mimetype": "text/x-python",
   "name": "python",
   "nbconvert_exporter": "python",
   "pygments_lexer": "ipython3",
   "version": "3.8.3"
  }
 },
 "nbformat": 4,
 "nbformat_minor": 4
}
