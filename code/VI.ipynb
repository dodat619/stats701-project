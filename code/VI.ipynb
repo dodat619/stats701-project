{
 "cells": [
  {
   "cell_type": "code",
   "execution_count": 1,
   "metadata": {},
   "outputs": [],
   "source": [
    "import numpy as np\n",
    "import pandas as pd\n",
    "from sklearn.preprocessing import normalize\n",
    "from scipy.stats import dirichlet, norm, uniform, bernoulli, beta\n",
    "import timeit\n",
    "from itertools import permutations \n",
    "import itertools\n",
    "from scipy.special import digamma\n",
    "\n",
    "%matplotlib inline\n",
    "import matplotlib.pyplot as plt\n",
    "import seaborn as sns\n",
    "sns.set_style(\"darkgrid\")\n",
    "np.random.seed(seed=1)"
   ]
  },
  {
   "cell_type": "code",
   "execution_count": null,
   "metadata": {},
   "outputs": [],
   "source": []
  },
  {
   "cell_type": "code",
   "execution_count": 44,
   "metadata": {},
   "outputs": [],
   "source": [
    "def update(Z, Q, Pu, Pv):\n",
    "    \"\"\"\n",
    "    Updating rule for VI\n",
    "    \"\"\"\n",
    "    Psum = Pu + Pv\n",
    "    Q0 = np.sum(Q, axis=1)   ## Q_{n0} = sum_k Q_{nk}\n",
    "    psiQ = digamma(Q)\n",
    "    psiQ0 = digamma(Q0)\n",
    "    psiPsum = digamma(Psum)\n",
    "    \n",
    "    PsiX = np.zeros((N, L, K))\n",
    "    for n in range(N):\n",
    "        for l in range(L):\n",
    "            if X[n, l] == 1:\n",
    "                PsiX[n, l, :] = digamma(Pu[:, l])\n",
    "            else:\n",
    "                PsiX[n, l, :] = digamma(Pv[:, l])\n",
    "            prob = np.exp(PsiX[n, l, :] - psiPsum[:, l] + psiQ[n, :] - psiQ0[n])\n",
    "            Z[n, l, :] = prob / sum(prob)\n",
    "    ## Update Q\n",
    "    for n in range(N):\n",
    "#         print(np.sum(Z[n, :, :], axis=0))\n",
    "        Q[n, :] = α + np.sum(Z[n, :, :], axis=0) \n",
    "#     print(np.sum(Z[0, :, :], axis=0))    \n",
    "    ## Update Pu and Pv\n",
    "    for l in range(L):\n",
    "        for k in range(K):\n",
    "            Pu[k, l] = β + sum((X[n, l]==1) * Z[n, l, k] for n in range(N))\n",
    "            Pv[k, l] = γ + sum((X[n, l]==0) * Z[n, l, k] for n in range(N))\n",
    "\n",
    "    return Z, Q, Pu, Pv\n",
    "    \n",
    "    "
   ]
  },
  {
   "cell_type": "code",
   "execution_count": 3,
   "metadata": {},
   "outputs": [],
   "source": [
    "A = np.array([0.14984528, 0.04963504, 0.02383207])"
   ]
  },
  {
   "cell_type": "code",
   "execution_count": 4,
   "metadata": {},
   "outputs": [
    {
     "data": {
      "text/plain": [
       "array([0.67101194, 0.22226729, 0.10672077])"
      ]
     },
     "execution_count": 4,
     "metadata": {},
     "output_type": "execute_result"
    }
   ],
   "source": [
    "A / sum(A)"
   ]
  },
  {
   "cell_type": "markdown",
   "metadata": {},
   "source": [
    "## Data"
   ]
  },
  {
   "cell_type": "code",
   "execution_count": 115,
   "metadata": {},
   "outputs": [],
   "source": [
    "# N = 200\n",
    "# L = 200\n",
    "# Q0 = [0.5, 0.3, 0.2]\n",
    "# K = 3"
   ]
  },
  {
   "cell_type": "code",
   "execution_count": 117,
   "metadata": {},
   "outputs": [],
   "source": [
    "# %run Simulate_data.ipynb"
   ]
  },
  {
   "cell_type": "code",
   "execution_count": 95,
   "metadata": {},
   "outputs": [],
   "source": [
    "# X, q_true = simulate_data(N, L, Q0)"
   ]
  },
  {
   "cell_type": "code",
   "execution_count": 123,
   "metadata": {},
   "outputs": [
    {
     "data": {
      "image/png": "[encoded data removed]",
      "text/plain": [
       "<Figure size 432x288 with 1 Axes>"
      ]
     },
     "metadata": {},
     "output_type": "display_data"
    }
   ],
   "source": [
    "# colors = ['green','blue','orange','red']\n",
    "# sorted_ind = reorder(q_true)\n",
    "# ax1 = bar_plot(q_true, sorted_ind, colors)"
   ]
  },
  {
   "cell_type": "code",
   "execution_count": 97,
   "metadata": {},
   "outputs": [],
   "source": [
    "# Q = uniform(0.5, 1.5).rvs((N, K))\n",
    "# Pu = uniform(0.5, 1.5).rvs((K, L))\n",
    "# Pv = uniform(0.5, 1.5).rvs((K, L))\n",
    "# Z = uniform(0.5, 1.5).rvs(size=(N, L, K))\n",
    "# β = 1\n",
    "# γ = 1\n",
    "# α = np.array([.5] * K)"
   ]
  },
  {
   "cell_type": "code",
   "execution_count": 98,
   "metadata": {},
   "outputs": [],
   "source": [
    "# for _ in range(100):\n",
    "#     Z, Q, Pu, Pv = update(Z, Q, Pu, Pv)"
   ]
  },
  {
   "cell_type": "code",
   "execution_count": 105,
   "metadata": {},
   "outputs": [],
   "source": [
    "# q_pred = normalize(Q, norm='l1', axis=1)"
   ]
  },
  {
   "cell_type": "code",
   "execution_count": 124,
   "metadata": {},
   "outputs": [
    {
     "data": {
      "image/png": "[encoded data removed]",
      "text/plain": [
       "<Figure size 432x288 with 1 Axes>"
      ]
     },
     "metadata": {},
     "output_type": "display_data"
    }
   ],
   "source": [
    "# switch_label = [1,2,0]\n",
    "# ax2 = bar_plot(q_pred, sorted_ind, colors, switch_label)"
   ]
  },
  {
   "cell_type": "code",
   "execution_count": null,
   "metadata": {},
   "outputs": [],
   "source": []
  }
 ],
 "metadata": {
  "kernelspec": {
   "display_name": "Python 3",
   "language": "python",
   "name": "python3"
  },
  "language_info": {
   "codemirror_mode": {
    "name": "ipython",
    "version": 3
   },
   "file_extension": ".py",
   "mimetype": "text/x-python",
   "name": "python",
   "nbconvert_exporter": "python",
   "pygments_lexer": "ipython3",
   "version": "3.8.3"
  }
 },
 "nbformat": 4,
 "nbformat_minor": 4
}
